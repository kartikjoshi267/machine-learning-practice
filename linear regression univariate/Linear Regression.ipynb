{
 "cells": [
  {
   "cell_type": "code",
   "execution_count": 331,
   "id": "9c7a1f4f",
   "metadata": {},
   "outputs": [
    {
     "name": "stdout",
     "output_type": "stream",
     "text": [
      "Requirement already satisfied: sklearn in c:\\users\\kartik\\appdata\\local\\programs\\python\\python310\\lib\\site-packages (0.0)\n",
      "Requirement already satisfied: pandas in c:\\users\\kartik\\appdata\\local\\programs\\python\\python310\\lib\\site-packages (1.4.0)\n",
      "Requirement already satisfied: numpy in c:\\users\\kartik\\appdata\\local\\programs\\python\\python310\\lib\\site-packages (1.23.5)\n",
      "Requirement already satisfied: matplotlib in c:\\users\\kartik\\appdata\\local\\programs\\python\\python310\\lib\\site-packages (3.6.2)\n",
      "Requirement already satisfied: scikit-learn in c:\\users\\kartik\\appdata\\local\\programs\\python\\python310\\lib\\site-packages (from sklearn) (1.0.2)\n",
      "Requirement already satisfied: python-dateutil>=2.8.1 in c:\\users\\kartik\\appdata\\local\\programs\\python\\python310\\lib\\site-packages (from pandas) (2.8.2)\n",
      "Requirement already satisfied: pytz>=2020.1 in c:\\users\\kartik\\appdata\\local\\programs\\python\\python310\\lib\\site-packages (from pandas) (2021.3)\n",
      "Requirement already satisfied: contourpy>=1.0.1 in c:\\users\\kartik\\appdata\\local\\programs\\python\\python310\\lib\\site-packages (from matplotlib) (1.0.6)\n",
      "Requirement already satisfied: cycler>=0.10 in c:\\users\\kartik\\appdata\\local\\programs\\python\\python310\\lib\\site-packages (from matplotlib) (0.11.0)\n",
      "Requirement already satisfied: fonttools>=4.22.0 in c:\\users\\kartik\\appdata\\local\\programs\\python\\python310\\lib\\site-packages (from matplotlib) (4.29.1)\n",
      "Requirement already satisfied: kiwisolver>=1.0.1 in c:\\users\\kartik\\appdata\\local\\programs\\python\\python310\\lib\\site-packages (from matplotlib) (1.3.2)\n",
      "Requirement already satisfied: packaging>=20.0 in c:\\users\\kartik\\appdata\\local\\programs\\python\\python310\\lib\\site-packages (from matplotlib) (21.3)\n",
      "Requirement already satisfied: pillow>=6.2.0 in c:\\users\\kartik\\appdata\\local\\programs\\python\\python310\\lib\\site-packages (from matplotlib) (9.0.0)\n",
      "Requirement already satisfied: pyparsing>=2.2.1 in c:\\users\\kartik\\appdata\\local\\programs\\python\\python310\\lib\\site-packages (from matplotlib) (3.0.7)\n",
      "Requirement already satisfied: six>=1.5 in c:\\users\\kartik\\appdata\\local\\programs\\python\\python310\\lib\\site-packages (from python-dateutil>=2.8.1->pandas) (1.16.0)\n",
      "Requirement already satisfied: scipy>=1.1.0 in c:\\users\\kartik\\appdata\\local\\programs\\python\\python310\\lib\\site-packages (from scikit-learn->sklearn) (1.9.3)\n",
      "Requirement already satisfied: joblib>=0.11 in c:\\users\\kartik\\appdata\\local\\programs\\python\\python310\\lib\\site-packages (from scikit-learn->sklearn) (1.1.0)\n",
      "Requirement already satisfied: threadpoolctl>=2.0.0 in c:\\users\\kartik\\appdata\\local\\programs\\python\\python310\\lib\\site-packages (from scikit-learn->sklearn) (3.0.0)\n"
     ]
    },
    {
     "name": "stderr",
     "output_type": "stream",
     "text": [
      "\n",
      "[notice] A new release of pip is available: 23.1.2 -> 23.2.1\n",
      "[notice] To update, run: python.exe -m pip install --upgrade pip\n"
     ]
    }
   ],
   "source": [
    "!pip install sklearn pandas numpy matplotlib"
   ]
  },
  {
   "cell_type": "markdown",
   "id": "97dbe664",
   "metadata": {},
   "source": [
    "Install and import dependencies"
   ]
  },
  {
   "cell_type": "code",
   "execution_count": 412,
   "id": "b0f0dcd7",
   "metadata": {},
   "outputs": [],
   "source": [
    "import pandas as pd\n",
    "import numpy as np\n",
    "from sklearn.linear_model import LinearRegression\n",
    "from sklearn.metrics import accuracy_score, r2_score\n",
    "import matplotlib.pyplot as plt"
   ]
  },
  {
   "cell_type": "markdown",
   "id": "f1da91c5",
   "metadata": {},
   "source": [
    "Load dataset"
   ]
  },
  {
   "cell_type": "code",
   "execution_count": 424,
   "id": "309a080a",
   "metadata": {},
   "outputs": [],
   "source": [
    "dataset = pd.read_csv('./dataset/train.csv')"
   ]
  },
  {
   "cell_type": "code",
   "execution_count": 425,
   "id": "3f0b7bb8",
   "metadata": {},
   "outputs": [
    {
     "data": {
      "text/html": [
       "<div>\n",
       "<style scoped>\n",
       "    .dataframe tbody tr th:only-of-type {\n",
       "        vertical-align: middle;\n",
       "    }\n",
       "\n",
       "    .dataframe tbody tr th {\n",
       "        vertical-align: top;\n",
       "    }\n",
       "\n",
       "    .dataframe thead th {\n",
       "        text-align: right;\n",
       "    }\n",
       "</style>\n",
       "<table border=\"1\" class=\"dataframe\">\n",
       "  <thead>\n",
       "    <tr style=\"text-align: right;\">\n",
       "      <th></th>\n",
       "      <th>x</th>\n",
       "      <th>y</th>\n",
       "    </tr>\n",
       "  </thead>\n",
       "  <tbody>\n",
       "    <tr>\n",
       "      <th>0</th>\n",
       "      <td>24</td>\n",
       "      <td>21.55</td>\n",
       "    </tr>\n",
       "    <tr>\n",
       "      <th>1</th>\n",
       "      <td>50</td>\n",
       "      <td>47.46</td>\n",
       "    </tr>\n",
       "    <tr>\n",
       "      <th>2</th>\n",
       "      <td>15</td>\n",
       "      <td>17.22</td>\n",
       "    </tr>\n",
       "    <tr>\n",
       "      <th>3</th>\n",
       "      <td>38</td>\n",
       "      <td>36.59</td>\n",
       "    </tr>\n",
       "    <tr>\n",
       "      <th>4</th>\n",
       "      <td>87</td>\n",
       "      <td>87.29</td>\n",
       "    </tr>\n",
       "    <tr>\n",
       "      <th>...</th>\n",
       "      <td>...</td>\n",
       "      <td>...</td>\n",
       "    </tr>\n",
       "    <tr>\n",
       "      <th>695</th>\n",
       "      <td>58</td>\n",
       "      <td>58.60</td>\n",
       "    </tr>\n",
       "    <tr>\n",
       "      <th>696</th>\n",
       "      <td>93</td>\n",
       "      <td>94.63</td>\n",
       "    </tr>\n",
       "    <tr>\n",
       "      <th>697</th>\n",
       "      <td>82</td>\n",
       "      <td>88.60</td>\n",
       "    </tr>\n",
       "    <tr>\n",
       "      <th>698</th>\n",
       "      <td>66</td>\n",
       "      <td>63.65</td>\n",
       "    </tr>\n",
       "    <tr>\n",
       "      <th>699</th>\n",
       "      <td>97</td>\n",
       "      <td>94.98</td>\n",
       "    </tr>\n",
       "  </tbody>\n",
       "</table>\n",
       "<p>700 rows × 2 columns</p>\n",
       "</div>"
      ],
      "text/plain": [
       "      x      y\n",
       "0    24  21.55\n",
       "1    50  47.46\n",
       "2    15  17.22\n",
       "3    38  36.59\n",
       "4    87  87.29\n",
       "..   ..    ...\n",
       "695  58  58.60\n",
       "696  93  94.63\n",
       "697  82  88.60\n",
       "698  66  63.65\n",
       "699  97  94.98\n",
       "\n",
       "[700 rows x 2 columns]"
      ]
     },
     "execution_count": 425,
     "metadata": {},
     "output_type": "execute_result"
    }
   ],
   "source": [
    "dataset"
   ]
  },
  {
   "cell_type": "code",
   "execution_count": 426,
   "id": "ee64dfa9",
   "metadata": {},
   "outputs": [],
   "source": [
    "x_train = np.array(list(map(float, list(dataset['x']))), dtype=np.float32)\n",
    "y_train = np.array(list(map(float, list(dataset['y']))), dtype=np.float32)"
   ]
  },
  {
   "cell_type": "markdown",
   "id": "c00e640a",
   "metadata": {},
   "source": [
    "Function to scale features"
   ]
  },
  {
   "cell_type": "code",
   "execution_count": 427,
   "id": "dec9c39d",
   "metadata": {},
   "outputs": [],
   "source": [
    "# def scaleFeature(data):\n",
    "#     print(data)\n",
    "#     scaler = StandardScaler()\n",
    "#     scaler.fit_transform(data)\n",
    "# #     sd = scaler.transform(np.array(data, dtype=np.float32));\n",
    "#     return data\n",
    "\n",
    "# scaled = scaleFeature(dataset)\n",
    "# x_train = scaled[0]\n",
    "# y_train = scaled[1]\n",
    "# x_train"
   ]
  },
  {
   "cell_type": "markdown",
   "id": "ab29a875",
   "metadata": {},
   "source": [
    "Function to calculate the derivatives at each iteration"
   ]
  },
  {
   "cell_type": "code",
   "execution_count": 428,
   "id": "55042407",
   "metadata": {},
   "outputs": [],
   "source": [
    "def calculateDerivatives(w, b):\n",
    "    dj_dw = 0.0\n",
    "    dj_db = 0.0\n",
    "    N = float(len(x_train))\n",
    "    for i in range(len(x_train)):\n",
    "        dj_dw += (2*x_train[i])*((w*x_train[i]) + b - y_train[i])\n",
    "        dj_dw += 2*((w*x_train[i]) + b - y_train[i])\n",
    "    \n",
    "    dj_dw /= N\n",
    "    dj_db /= N\n",
    "    return dj_dw, dj_db"
   ]
  },
  {
   "cell_type": "markdown",
   "id": "ea3cfe4a",
   "metadata": {},
   "source": [
    "Function to calculate cost function"
   ]
  },
  {
   "cell_type": "code",
   "execution_count": 429,
   "id": "8beb40e4",
   "metadata": {},
   "outputs": [],
   "source": [
    "def calculateCostFunction(w, b):\n",
    "    j = 0.0\n",
    "    N = float(len(x_train))\n",
    "    for i in range(len(x_train)):\n",
    "        j += ((w*x_train[i] + b - y_train[i])**2)\n",
    "    j /= N\n",
    "    return j"
   ]
  },
  {
   "cell_type": "markdown",
   "id": "7f7e7443",
   "metadata": {},
   "source": [
    "Function to train the model"
   ]
  },
  {
   "cell_type": "code",
   "execution_count": 430,
   "id": "d3a993db",
   "metadata": {},
   "outputs": [],
   "source": [
    "iterations_list = []\n",
    "cost_function_list = []"
   ]
  },
  {
   "cell_type": "code",
   "execution_count": 431,
   "id": "5a086d54",
   "metadata": {},
   "outputs": [],
   "source": [
    "def trainModel(w, b, iterations, alpha):\n",
    "    for itr in range(iterations):\n",
    "        dj_dw, dj_db = calculateDerivatives(w, b)\n",
    "        w = w - alpha*dj_dw\n",
    "        b = b - alpha*dj_db\n",
    "        iterations_list.append(itr)\n",
    "        cost_function_list.append(calculateCostFunction(w, b))\n",
    "    return w, b"
   ]
  },
  {
   "cell_type": "markdown",
   "id": "54275c61",
   "metadata": {},
   "source": [
    "Driver code"
   ]
  },
  {
   "cell_type": "code",
   "execution_count": 432,
   "id": "3f54526e",
   "metadata": {},
   "outputs": [],
   "source": [
    "w, b = trainModel(0, 0, 500, 0.0001)"
   ]
  },
  {
   "cell_type": "code",
   "execution_count": 433,
   "id": "5f6f6cc6",
   "metadata": {},
   "outputs": [
    {
     "name": "stdout",
     "output_type": "stream",
     "text": [
      "20.97827772721412\n"
     ]
    }
   ],
   "source": [
    "print(21*w + b)"
   ]
  },
  {
   "cell_type": "code",
   "execution_count": 434,
   "id": "8abd30a6",
   "metadata": {},
   "outputs": [
    {
     "data": {
      "image/png": "[encoded data removed]",
      "text/plain": [
       "<Figure size 432x432 with 1 Axes>"
      ]
     },
     "metadata": {
      "needs_background": "light"
     },
     "output_type": "display_data"
    }
   ],
   "source": [
    "plt.style.use('_mpl-gallery')\n",
    "\n",
    "fig, ax = plt.subplots()\n",
    "\n",
    "plt.title('Train data')\n",
    "plt.xlabel('x')\n",
    "plt.ylabel('y')\n",
    "fig.set_figwidth(6)\n",
    "fig.set_figheight(6)\n",
    "ax.scatter(x_train, y_train, s=7.0)\n",
    "x = np.array(x_train, dtype=np.float32)\n",
    "y = w*np.array(x_train, dtype=np.float32) + b\n",
    "\n",
    "ax.plot(x, y, linewidth=3.0, color='red')\n",
    "plt.show()"
   ]
  },
  {
   "cell_type": "code",
   "execution_count": 435,
   "id": "0fb23594",
   "metadata": {},
   "outputs": [],
   "source": [
    "test_data = pd.read_csv('./dataset/test.csv')"
   ]
  },
  {
   "cell_type": "code",
   "execution_count": 436,
   "id": "3ae2d1be",
   "metadata": {},
   "outputs": [
    {
     "data": {
      "image/png": "[encoded data removed]",
      "text/plain": [
       "<Figure size 504x504 with 1 Axes>"
      ]
     },
     "metadata": {
      "needs_background": "light"
     },
     "output_type": "display_data"
    }
   ],
   "source": [
    "x_test = np.array(test_data['x'], dtype=np.float32)\n",
    "y_test = np.array(test_data['y'], dtype=np.float32)\n",
    "\n",
    "fig, ax = plt.subplots()\n",
    "fig.set_figwidth(7)\n",
    "fig.set_figheight(7)\n",
    "\n",
    "ax.scatter(x_test, y_test, s=4)\n",
    "ax.plot(x_test, w*x_test+b, linewidth=1.0, color='red')\n",
    "plt.title('Test Data')\n",
    "plt.xlabel('x')\n",
    "plt.ylabel('y')\n",
    "plt.show()"
   ]
  },
  {
   "cell_type": "code",
   "execution_count": 437,
   "id": "24447d37",
   "metadata": {},
   "outputs": [
    {
     "data": {
      "image/png": "[encoded data removed]",
      "text/plain": [
       "<Figure size 432x432 with 1 Axes>"
      ]
     },
     "metadata": {
      "needs_background": "light"
     },
     "output_type": "display_data"
    }
   ],
   "source": [
    "fig, ax = plt.subplots()\n",
    "fig.set_figwidth(6)\n",
    "fig.set_figheight(6)\n",
    "ax.plot(iterations_list, cost_function_list, linewidth=5.0)\n",
    "plt.title('Cost Function v/s number of iterations')\n",
    "plt.xlabel('number of iterations')\n",
    "plt.ylabel('cost function')\n",
    "plt.show()"
   ]
  },
  {
   "cell_type": "markdown",
   "id": "54650597",
   "metadata": {},
   "source": [
    " "
   ]
  },
  {
   "cell_type": "markdown",
   "id": "02ee04c9",
   "metadata": {},
   "source": [
    "## Accuracy of my model"
   ]
  },
  {
   "cell_type": "code",
   "execution_count": 414,
   "id": "170462af",
   "metadata": {},
   "outputs": [
    {
     "data": {
      "text/plain": [
       "0.9887708770551726"
      ]
     },
     "execution_count": 414,
     "metadata": {},
     "output_type": "execute_result"
    }
   ],
   "source": [
    "r2_score(y_test.reshape(-1, 1), (w*x_test.reshape(-1, 1) + b).reshape(-1, 1))"
   ]
  },
  {
   "cell_type": "markdown",
   "id": "1d472bd8",
   "metadata": {},
   "source": [
    " "
   ]
  },
  {
   "cell_type": "markdown",
   "id": "3ea9b869",
   "metadata": {},
   "source": [
    " "
   ]
  },
  {
   "cell_type": "markdown",
   "id": "925ee62e",
   "metadata": {},
   "source": [
    "# Linear regression using sklearn"
   ]
  },
  {
   "cell_type": "code",
   "execution_count": 415,
   "id": "03c57a04",
   "metadata": {},
   "outputs": [],
   "source": [
    "model = LinearRegression().fit(x_train.reshape(-1, 1), y_train.reshape(-1, 1))"
   ]
  },
  {
   "cell_type": "code",
   "execution_count": 416,
   "id": "11bfcbd9",
   "metadata": {
    "scrolled": true
   },
   "outputs": [
    {
     "data": {
      "text/plain": [
       "array([[20.89614344]])"
      ]
     },
     "execution_count": 416,
     "metadata": {},
     "output_type": "execute_result"
    }
   ],
   "source": [
    "model.predict([[21]])"
   ]
  },
  {
   "cell_type": "code",
   "execution_count": 417,
   "id": "693e739c",
   "metadata": {},
   "outputs": [
    {
     "data": {
      "text/plain": [
       "0.9887989420720827"
      ]
     },
     "execution_count": 417,
     "metadata": {},
     "output_type": "execute_result"
    }
   ],
   "source": [
    "model.score(x_test.reshape(-1, 1), y_test.reshape(-1, 1))"
   ]
  }
 ],
 "metadata": {
  "kernelspec": {
   "display_name": "Python 3 (ipykernel)",
   "language": "python",
   "name": "python3"
  },
  "language_info": {
   "codemirror_mode": {
    "name": "ipython",
    "version": 3
   },
   "file_extension": ".py",
   "mimetype": "text/x-python",
   "name": "python",
   "nbconvert_exporter": "python",
   "pygments_lexer": "ipython3",
   "version": "3.10.4"
  }
 },
 "nbformat": 4,
 "nbformat_minor": 5
}
