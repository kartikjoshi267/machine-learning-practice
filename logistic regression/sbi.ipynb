{
 "cells": [
  {
   "cell_type": "code",
   "execution_count": 29,
   "metadata": {},
   "outputs": [],
   "source": [
    "%matplotlib inline"
   ]
  },
  {
   "cell_type": "code",
   "execution_count": 30,
   "metadata": {},
   "outputs": [],
   "source": [
    "import pandas as pd\n",
    "import numpy as np\n",
    "import matplotlib.pyplot as plt\n",
    "import seaborn as sns\n",
    "from sklearn.pipeline import Pipeline\n",
    "from sklearn.preprocessing import LabelEncoder, PolynomialFeatures, StandardScaler\n",
    "from sklearn.model_selection import train_test_split, RandomizedSearchCV, GridSearchCV\n",
    "from sklearn.linear_model import LogisticRegression\n",
    "from sklearn.metrics import confusion_matrix, precision_score, recall_score"
   ]
  },
  {
   "cell_type": "code",
   "execution_count": 31,
   "metadata": {},
   "outputs": [
    {
     "data": {
      "text/html": [
       "<div>\n",
       "<style scoped>\n",
       "    .dataframe tbody tr th:only-of-type {\n",
       "        vertical-align: middle;\n",
       "    }\n",
       "\n",
       "    .dataframe tbody tr th {\n",
       "        vertical-align: top;\n",
       "    }\n",
       "\n",
       "    .dataframe thead th {\n",
       "        text-align: right;\n",
       "    }\n",
       "</style>\n",
       "<table border=\"1\" class=\"dataframe\">\n",
       "  <thead>\n",
       "    <tr style=\"text-align: right;\">\n",
       "      <th></th>\n",
       "      <th>Unnamed: 0</th>\n",
       "      <th>id</th>\n",
       "      <th>fever_hours</th>\n",
       "      <th>age</th>\n",
       "      <th>sex</th>\n",
       "      <th>wcc</th>\n",
       "      <th>prevAB</th>\n",
       "      <th>sbi</th>\n",
       "      <th>pct</th>\n",
       "      <th>crp</th>\n",
       "    </tr>\n",
       "  </thead>\n",
       "  <tbody>\n",
       "    <tr>\n",
       "      <th>0</th>\n",
       "      <td>1</td>\n",
       "      <td>57906</td>\n",
       "      <td>24.0</td>\n",
       "      <td>0.79</td>\n",
       "      <td>M</td>\n",
       "      <td>3.8</td>\n",
       "      <td>No</td>\n",
       "      <td>UTI</td>\n",
       "      <td>0.090000</td>\n",
       "      <td>17.700000</td>\n",
       "    </tr>\n",
       "    <tr>\n",
       "      <th>1</th>\n",
       "      <td>2</td>\n",
       "      <td>58031</td>\n",
       "      <td>48.0</td>\n",
       "      <td>1.91</td>\n",
       "      <td>F</td>\n",
       "      <td>25.3</td>\n",
       "      <td>Yes</td>\n",
       "      <td>UTI</td>\n",
       "      <td>4.400000</td>\n",
       "      <td>150.400000</td>\n",
       "    </tr>\n",
       "    <tr>\n",
       "      <th>2</th>\n",
       "      <td>3</td>\n",
       "      <td>58148</td>\n",
       "      <td>24.0</td>\n",
       "      <td>0.07</td>\n",
       "      <td>F</td>\n",
       "      <td>20.0</td>\n",
       "      <td>No</td>\n",
       "      <td>UTI</td>\n",
       "      <td>0.548136</td>\n",
       "      <td>47.359279</td>\n",
       "    </tr>\n",
       "    <tr>\n",
       "      <th>3</th>\n",
       "      <td>4</td>\n",
       "      <td>58169</td>\n",
       "      <td>72.0</td>\n",
       "      <td>0.95</td>\n",
       "      <td>M</td>\n",
       "      <td>6.0</td>\n",
       "      <td>No</td>\n",
       "      <td>UTI</td>\n",
       "      <td>0.310000</td>\n",
       "      <td>4.900000</td>\n",
       "    </tr>\n",
       "    <tr>\n",
       "      <th>4</th>\n",
       "      <td>5</td>\n",
       "      <td>58517</td>\n",
       "      <td>1.0</td>\n",
       "      <td>0.11</td>\n",
       "      <td>F</td>\n",
       "      <td>15.6</td>\n",
       "      <td>No</td>\n",
       "      <td>UTI</td>\n",
       "      <td>0.936872</td>\n",
       "      <td>31.394860</td>\n",
       "    </tr>\n",
       "    <tr>\n",
       "      <th>...</th>\n",
       "      <td>...</td>\n",
       "      <td>...</td>\n",
       "      <td>...</td>\n",
       "      <td>...</td>\n",
       "      <td>...</td>\n",
       "      <td>...</td>\n",
       "      <td>...</td>\n",
       "      <td>...</td>\n",
       "      <td>...</td>\n",
       "      <td>...</td>\n",
       "    </tr>\n",
       "    <tr>\n",
       "      <th>2343</th>\n",
       "      <td>2344</td>\n",
       "      <td>229318</td>\n",
       "      <td>48.0</td>\n",
       "      <td>1.06</td>\n",
       "      <td>M</td>\n",
       "      <td>14.1</td>\n",
       "      <td>No</td>\n",
       "      <td>NotApplicable</td>\n",
       "      <td>0.160000</td>\n",
       "      <td>16.700000</td>\n",
       "    </tr>\n",
       "    <tr>\n",
       "      <th>2344</th>\n",
       "      <td>2345</td>\n",
       "      <td>229506</td>\n",
       "      <td>24.0</td>\n",
       "      <td>3.05</td>\n",
       "      <td>M</td>\n",
       "      <td>14.6</td>\n",
       "      <td>No</td>\n",
       "      <td>NotApplicable</td>\n",
       "      <td>1.080000</td>\n",
       "      <td>77.500000</td>\n",
       "    </tr>\n",
       "    <tr>\n",
       "      <th>2345</th>\n",
       "      <td>2346</td>\n",
       "      <td>229794</td>\n",
       "      <td>48.0</td>\n",
       "      <td>1.81</td>\n",
       "      <td>M</td>\n",
       "      <td>6.0</td>\n",
       "      <td>No</td>\n",
       "      <td>NotApplicable</td>\n",
       "      <td>0.480000</td>\n",
       "      <td>75.300000</td>\n",
       "    </tr>\n",
       "    <tr>\n",
       "      <th>2346</th>\n",
       "      <td>2347</td>\n",
       "      <td>229962</td>\n",
       "      <td>24.0</td>\n",
       "      <td>1.24</td>\n",
       "      <td>M</td>\n",
       "      <td>16.3</td>\n",
       "      <td>Yes</td>\n",
       "      <td>NotApplicable</td>\n",
       "      <td>20.280000</td>\n",
       "      <td>17.300000</td>\n",
       "    </tr>\n",
       "    <tr>\n",
       "      <th>2347</th>\n",
       "      <td>2348</td>\n",
       "      <td>229985</td>\n",
       "      <td>24.0</td>\n",
       "      <td>3.56</td>\n",
       "      <td>F</td>\n",
       "      <td>13.0</td>\n",
       "      <td>No</td>\n",
       "      <td>NotApplicable</td>\n",
       "      <td>0.606293</td>\n",
       "      <td>18.181134</td>\n",
       "    </tr>\n",
       "  </tbody>\n",
       "</table>\n",
       "<p>2348 rows × 10 columns</p>\n",
       "</div>"
      ],
      "text/plain": [
       "      Unnamed: 0      id  fever_hours   age sex   wcc prevAB            sbi  \\\n",
       "0              1   57906         24.0  0.79   M   3.8     No            UTI   \n",
       "1              2   58031         48.0  1.91   F  25.3    Yes            UTI   \n",
       "2              3   58148         24.0  0.07   F  20.0     No            UTI   \n",
       "3              4   58169         72.0  0.95   M   6.0     No            UTI   \n",
       "4              5   58517          1.0  0.11   F  15.6     No            UTI   \n",
       "...          ...     ...          ...   ...  ..   ...    ...            ...   \n",
       "2343        2344  229318         48.0  1.06   M  14.1     No  NotApplicable   \n",
       "2344        2345  229506         24.0  3.05   M  14.6     No  NotApplicable   \n",
       "2345        2346  229794         48.0  1.81   M   6.0     No  NotApplicable   \n",
       "2346        2347  229962         24.0  1.24   M  16.3    Yes  NotApplicable   \n",
       "2347        2348  229985         24.0  3.56   F  13.0     No  NotApplicable   \n",
       "\n",
       "            pct         crp  \n",
       "0      0.090000   17.700000  \n",
       "1      4.400000  150.400000  \n",
       "2      0.548136   47.359279  \n",
       "3      0.310000    4.900000  \n",
       "4      0.936872   31.394860  \n",
       "...         ...         ...  \n",
       "2343   0.160000   16.700000  \n",
       "2344   1.080000   77.500000  \n",
       "2345   0.480000   75.300000  \n",
       "2346  20.280000   17.300000  \n",
       "2347   0.606293   18.181134  \n",
       "\n",
       "[2348 rows x 10 columns]"
      ]
     },
     "execution_count": 31,
     "metadata": {},
     "output_type": "execute_result"
    }
   ],
   "source": [
    "sns.set_style(\"whitegrid\")\n",
    "df = pd.read_csv('./datasets/SBI.csv')\n",
    "df"
   ]
  },
  {
   "cell_type": "code",
   "execution_count": 32,
   "metadata": {},
   "outputs": [],
   "source": [
    "df['prevAB'] = LabelEncoder().fit_transform(df['prevAB'])\n",
    "selection_features = ['wcc', 'age', 'prevAB', 'pct', 'crp']\n",
    "x = df[selection_features]\n",
    "y = df['sbi']"
   ]
  },
  {
   "cell_type": "code",
   "execution_count": 33,
   "metadata": {},
   "outputs": [
    {
     "data": {
      "text/html": [
       "<div>\n",
       "<style scoped>\n",
       "    .dataframe tbody tr th:only-of-type {\n",
       "        vertical-align: middle;\n",
       "    }\n",
       "\n",
       "    .dataframe tbody tr th {\n",
       "        vertical-align: top;\n",
       "    }\n",
       "\n",
       "    .dataframe thead th {\n",
       "        text-align: right;\n",
       "    }\n",
       "</style>\n",
       "<table border=\"1\" class=\"dataframe\">\n",
       "  <thead>\n",
       "    <tr style=\"text-align: right;\">\n",
       "      <th></th>\n",
       "      <th>wcc</th>\n",
       "      <th>age</th>\n",
       "      <th>prevAB</th>\n",
       "      <th>pct</th>\n",
       "      <th>crp</th>\n",
       "    </tr>\n",
       "  </thead>\n",
       "  <tbody>\n",
       "    <tr>\n",
       "      <th>0</th>\n",
       "      <td>3.8</td>\n",
       "      <td>0.79</td>\n",
       "      <td>0</td>\n",
       "      <td>0.090000</td>\n",
       "      <td>17.700000</td>\n",
       "    </tr>\n",
       "    <tr>\n",
       "      <th>1</th>\n",
       "      <td>25.3</td>\n",
       "      <td>1.91</td>\n",
       "      <td>1</td>\n",
       "      <td>4.400000</td>\n",
       "      <td>150.400000</td>\n",
       "    </tr>\n",
       "    <tr>\n",
       "      <th>2</th>\n",
       "      <td>20.0</td>\n",
       "      <td>0.07</td>\n",
       "      <td>0</td>\n",
       "      <td>0.548136</td>\n",
       "      <td>47.359279</td>\n",
       "    </tr>\n",
       "    <tr>\n",
       "      <th>3</th>\n",
       "      <td>6.0</td>\n",
       "      <td>0.95</td>\n",
       "      <td>0</td>\n",
       "      <td>0.310000</td>\n",
       "      <td>4.900000</td>\n",
       "    </tr>\n",
       "    <tr>\n",
       "      <th>4</th>\n",
       "      <td>15.6</td>\n",
       "      <td>0.11</td>\n",
       "      <td>0</td>\n",
       "      <td>0.936872</td>\n",
       "      <td>31.394860</td>\n",
       "    </tr>\n",
       "    <tr>\n",
       "      <th>...</th>\n",
       "      <td>...</td>\n",
       "      <td>...</td>\n",
       "      <td>...</td>\n",
       "      <td>...</td>\n",
       "      <td>...</td>\n",
       "    </tr>\n",
       "    <tr>\n",
       "      <th>2343</th>\n",
       "      <td>14.1</td>\n",
       "      <td>1.06</td>\n",
       "      <td>0</td>\n",
       "      <td>0.160000</td>\n",
       "      <td>16.700000</td>\n",
       "    </tr>\n",
       "    <tr>\n",
       "      <th>2344</th>\n",
       "      <td>14.6</td>\n",
       "      <td>3.05</td>\n",
       "      <td>0</td>\n",
       "      <td>1.080000</td>\n",
       "      <td>77.500000</td>\n",
       "    </tr>\n",
       "    <tr>\n",
       "      <th>2345</th>\n",
       "      <td>6.0</td>\n",
       "      <td>1.81</td>\n",
       "      <td>0</td>\n",
       "      <td>0.480000</td>\n",
       "      <td>75.300000</td>\n",
       "    </tr>\n",
       "    <tr>\n",
       "      <th>2346</th>\n",
       "      <td>16.3</td>\n",
       "      <td>1.24</td>\n",
       "      <td>1</td>\n",
       "      <td>20.280000</td>\n",
       "      <td>17.300000</td>\n",
       "    </tr>\n",
       "    <tr>\n",
       "      <th>2347</th>\n",
       "      <td>13.0</td>\n",
       "      <td>3.56</td>\n",
       "      <td>0</td>\n",
       "      <td>0.606293</td>\n",
       "      <td>18.181134</td>\n",
       "    </tr>\n",
       "  </tbody>\n",
       "</table>\n",
       "<p>2348 rows × 5 columns</p>\n",
       "</div>"
      ],
      "text/plain": [
       "       wcc   age  prevAB        pct         crp\n",
       "0      3.8  0.79       0   0.090000   17.700000\n",
       "1     25.3  1.91       1   4.400000  150.400000\n",
       "2     20.0  0.07       0   0.548136   47.359279\n",
       "3      6.0  0.95       0   0.310000    4.900000\n",
       "4     15.6  0.11       0   0.936872   31.394860\n",
       "...    ...   ...     ...        ...         ...\n",
       "2343  14.1  1.06       0   0.160000   16.700000\n",
       "2344  14.6  3.05       0   1.080000   77.500000\n",
       "2345   6.0  1.81       0   0.480000   75.300000\n",
       "2346  16.3  1.24       1  20.280000   17.300000\n",
       "2347  13.0  3.56       0   0.606293   18.181134\n",
       "\n",
       "[2348 rows x 5 columns]"
      ]
     },
     "execution_count": 33,
     "metadata": {},
     "output_type": "execute_result"
    }
   ],
   "source": [
    "x"
   ]
  },
  {
   "cell_type": "code",
   "execution_count": 34,
   "metadata": {},
   "outputs": [
    {
     "data": {
      "text/plain": [
       "0                 UTI\n",
       "1                 UTI\n",
       "2                 UTI\n",
       "3                 UTI\n",
       "4                 UTI\n",
       "            ...      \n",
       "2343    NotApplicable\n",
       "2344    NotApplicable\n",
       "2345    NotApplicable\n",
       "2346    NotApplicable\n",
       "2347    NotApplicable\n",
       "Name: sbi, Length: 2348, dtype: object"
      ]
     },
     "execution_count": 34,
     "metadata": {},
     "output_type": "execute_result"
    }
   ],
   "source": [
    "y"
   ]
  },
  {
   "cell_type": "code",
   "execution_count": 35,
   "metadata": {},
   "outputs": [
    {
     "data": {
      "text/plain": [
       "array(['UTI', 'Pneu', 'Bact', 'NotApplicable'], dtype=object)"
      ]
     },
     "execution_count": 35,
     "metadata": {},
     "output_type": "execute_result"
    }
   ],
   "source": [
    "y.unique()"
   ]
  },
  {
   "cell_type": "code",
   "execution_count": 36,
   "metadata": {},
   "outputs": [
    {
     "data": {
      "text/plain": [
       "((2348, 5), (2348,))"
      ]
     },
     "execution_count": 36,
     "metadata": {},
     "output_type": "execute_result"
    }
   ],
   "source": [
    "x.shape, y.shape"
   ]
  },
  {
   "cell_type": "code",
   "execution_count": 37,
   "metadata": {},
   "outputs": [
    {
     "data": {
      "text/plain": [
       "(array([[3.80000000e+00, 7.90000021e-01, 0.00000000e+00, 9.00000000e-02,\n",
       "         1.77000000e+01],\n",
       "        [2.53000000e+01, 1.90999997e+00, 1.00000000e+00, 4.40000000e+00,\n",
       "         1.50400000e+02],\n",
       "        [2.00000000e+01, 7.00000000e-02, 0.00000000e+00, 5.48135972e-01,\n",
       "         4.73592787e+01],\n",
       "        ...,\n",
       "        [6.00000000e+00, 1.80999994e+00, 0.00000000e+00, 4.80000000e-01,\n",
       "         7.53000000e+01],\n",
       "        [1.63000000e+01, 1.24000001e+00, 1.00000000e+00, 2.02800000e+01,\n",
       "         1.73000000e+01],\n",
       "        [1.30000000e+01, 3.55999994e+00, 0.00000000e+00, 6.06292932e-01,\n",
       "         1.81811341e+01]]),\n",
       " array([['UTI'],\n",
       "        ['UTI'],\n",
       "        ['UTI'],\n",
       "        ...,\n",
       "        ['NotApplicable'],\n",
       "        ['NotApplicable'],\n",
       "        ['NotApplicable']], dtype=object))"
      ]
     },
     "execution_count": 37,
     "metadata": {},
     "output_type": "execute_result"
    }
   ],
   "source": [
    "x_data = np.asarray(x).reshape(-1, 5)\n",
    "y_data = np.asarray(y).reshape(-1, 1)\n",
    "x_data, y_data"
   ]
  },
  {
   "cell_type": "code",
   "execution_count": 59,
   "metadata": {},
   "outputs": [],
   "source": [
    "# X_train_val, X_test, y_train_val, y_test = train_test_split(x_data, y_data, test_size=0.1, random_state=42)\n",
    "X_train, X_test, y_train, y_test = train_test_split(x_data, y_data, test_size=0.2, random_state=42)"
   ]
  },
  {
   "cell_type": "code",
   "execution_count": 60,
   "metadata": {},
   "outputs": [],
   "source": [
    "# X_train, X_val, y_train, y_val = train_test_split(X_train_val, y_train_val, test_size=0.11, random_state=42)"
   ]
  },
  {
   "cell_type": "code",
   "execution_count": 76,
   "metadata": {},
   "outputs": [],
   "source": [
    "steps = [\n",
    "  ('scaling', StandardScaler()),\n",
    "  ('poly', PolynomialFeatures()),\n",
    "  ('logistic', LogisticRegression(penalty='l2', multi_class='multinomial'))\n",
    "]\n",
    "\n",
    "parameters = {\n",
    "  'poly_degree': [2,3,4,5,6,7,8]\n",
    "}"
   ]
  },
  {
   "cell_type": "code",
   "execution_count": 77,
   "metadata": {},
   "outputs": [
    {
     "name": "stdout",
     "output_type": "stream",
     "text": [
      "dict_keys(['memory', 'steps', 'verbose', 'scaling', 'poly', 'logistic', 'scaling__copy', 'scaling__with_mean', 'scaling__with_std', 'poly__degree', 'poly__include_bias', 'poly__interaction_only', 'poly__order', 'logistic__C', 'logistic__class_weight', 'logistic__dual', 'logistic__fit_intercept', 'logistic__intercept_scaling', 'logistic__l1_ratio', 'logistic__max_iter', 'logistic__multi_class', 'logistic__n_jobs', 'logistic__penalty', 'logistic__random_state', 'logistic__solver', 'logistic__tol', 'logistic__verbose', 'logistic__warm_start'])\n"
     ]
    },
    {
     "name": "stderr",
     "output_type": "stream",
     "text": [
      "c:\\Users\\kartik\\AppData\\Local\\Programs\\Python\\Python310\\lib\\site-packages\\sklearn\\utils\\validation.py:993: DataConversionWarning: A column-vector y was passed when a 1d array was expected. Please change the shape of y to (n_samples, ), for example using ravel().\n",
      "  y = column_or_1d(y, warn=True)\n",
      "c:\\Users\\kartik\\AppData\\Local\\Programs\\Python\\Python310\\lib\\site-packages\\sklearn\\linear_model\\_logistic.py:814: ConvergenceWarning: lbfgs failed to converge (status=1):\n",
      "STOP: TOTAL NO. of ITERATIONS REACHED LIMIT.\n",
      "\n",
      "Increase the number of iterations (max_iter) or scale the data as shown in:\n",
      "    https://scikit-learn.org/stable/modules/preprocessing.html\n",
      "Please also refer to the documentation for alternative solver options:\n",
      "    https://scikit-learn.org/stable/modules/linear_model.html#logistic-regression\n",
      "  n_iter_i = _check_optimize_result(\n"
     ]
    }
   ],
   "source": [
    "pipe = Pipeline(steps=steps)\n",
    "print(pipe.get_params().keys())\n",
    "actualModel = GridSearchCV(pipe, param_grid=parameters, cv=5)\n",
    "# print(actualModel.get_params())\n",
    "model = pipe.fit(X_train, y_train)"
   ]
  },
  {
   "cell_type": "code",
   "execution_count": 78,
   "metadata": {},
   "outputs": [],
   "source": [
    "# model.score(X_val, y_val)"
   ]
  },
  {
   "cell_type": "code",
   "execution_count": 79,
   "metadata": {},
   "outputs": [
    {
     "data": {
      "text/plain": [
       "0.7673056443024494"
      ]
     },
     "execution_count": 79,
     "metadata": {},
     "output_type": "execute_result"
    }
   ],
   "source": [
    "model.score(X_train, y_train)"
   ]
  },
  {
   "cell_type": "code",
   "execution_count": 80,
   "metadata": {},
   "outputs": [
    {
     "data": {
      "text/plain": [
       "0.7276595744680852"
      ]
     },
     "execution_count": 80,
     "metadata": {},
     "output_type": "execute_result"
    }
   ],
   "source": [
    "model.score(X_test, y_test)"
   ]
  },
  {
   "cell_type": "code",
   "execution_count": 45,
   "metadata": {},
   "outputs": [
    {
     "data": {
      "text/plain": [
       "array(['NotApplicable', 'NotApplicable', 'NotApplicable', ...,\n",
       "       'NotApplicable', 'NotApplicable', 'NotApplicable'], dtype=object)"
      ]
     },
     "execution_count": 45,
     "metadata": {},
     "output_type": "execute_result"
    }
   ],
   "source": [
    "predicted_y = model.predict(x_data)\n",
    "predicted_y"
   ]
  },
  {
   "cell_type": "code",
   "execution_count": 46,
   "metadata": {},
   "outputs": [
    {
     "data": {
      "image/png": "[encoded data removed]",
      "text/plain": [
       "<Figure size 1296x1440 with 10 Axes>"
      ]
     },
     "metadata": {},
     "output_type": "display_data"
    }
   ],
   "source": [
    "fig, ax = plt.subplots(5, 2)\n",
    "\n",
    "fig.set_figheight(20)\n",
    "fig.set_figwidth(18)\n",
    "\n",
    "j = 0\n",
    "for i in selection_features:\n",
    "  ax[j, 0].scatter(df[i], y)\n",
    "  ax[j, 0].set(xlabel=i, ylabel='sbi')\n",
    "  ax[j, 1].scatter(df[i], predicted_y, color='orange')\n",
    "  ax[j, 1].set(xlabel=i, ylabel='sbi')\n",
    "  j += 1\n",
    "\n",
    "plt.show()"
   ]
  },
  {
   "cell_type": "code",
   "execution_count": 47,
   "metadata": {},
   "outputs": [
    {
     "data": {
      "text/plain": [
       "array([[   4,   24,    1,    5],\n",
       "       [   0, 1709,    3,   40],\n",
       "       [   1,  237,    8,    5],\n",
       "       [   0,  246,    3,   62]], dtype=int64)"
      ]
     },
     "execution_count": 47,
     "metadata": {},
     "output_type": "execute_result"
    }
   ],
   "source": [
    "cf_matrix = confusion_matrix(y_data, predicted_y)\n",
    "cf_matrix"
   ]
  },
  {
   "cell_type": "code",
   "execution_count": 48,
   "metadata": {},
   "outputs": [
    {
     "data": {
      "image/png": "[encoded data removed]",
      "text/plain": [
       "<Figure size 432x288 with 2 Axes>"
      ]
     },
     "metadata": {},
     "output_type": "display_data"
    }
   ],
   "source": [
    "heatmap = sns.heatmap(cf_matrix, annot=True, fmt='', cmap='Reds')\n",
    "heatmap.xaxis.set_ticklabels(['Bact', 'NotApplicable', 'Pneu', 'UTI'])\n",
    "heatmap.yaxis.set_ticklabels(['Bact', 'NotApplicable', 'Pneu', 'UTI'])\n",
    "plt.show()"
   ]
  },
  {
   "cell_type": "code",
   "execution_count": 49,
   "metadata": {},
   "outputs": [
    {
     "data": {
      "text/plain": [
       "array(['UTI'], dtype=object)"
      ]
     },
     "execution_count": 49,
     "metadata": {},
     "output_type": "execute_result"
    }
   ],
   "source": [
    "model.predict([[29,1,0,5,200]])"
   ]
  },
  {
   "cell_type": "code",
   "execution_count": 50,
   "metadata": {},
   "outputs": [
    {
     "data": {
      "text/plain": [
       "array(['Bact', 'NotApplicable', 'Pneu', 'UTI'], dtype=object)"
      ]
     },
     "execution_count": 50,
     "metadata": {},
     "output_type": "execute_result"
    }
   ],
   "source": [
    "model.classes_"
   ]
  },
  {
   "cell_type": "code",
   "execution_count": 51,
   "metadata": {},
   "outputs": [
    {
     "data": {
      "text/plain": [
       "array([0.8       , 0.77120939, 0.53333333, 0.55357143])"
      ]
     },
     "execution_count": 51,
     "metadata": {},
     "output_type": "execute_result"
    }
   ],
   "source": [
    "precision = precision_score(y, predicted_y, average=None)\n",
    "precision"
   ]
  },
  {
   "cell_type": "code",
   "execution_count": 52,
   "metadata": {},
   "outputs": [
    {
     "data": {
      "text/plain": [
       "array([0.11764706, 0.97545662, 0.03187251, 0.19935691])"
      ]
     },
     "execution_count": 52,
     "metadata": {},
     "output_type": "execute_result"
    }
   ],
   "source": [
    "recall = recall_score(y, predicted_y, average=None)\n",
    "recall"
   ]
  },
  {
   "cell_type": "code",
   "execution_count": 53,
   "metadata": {},
   "outputs": [
    {
     "name": "stdout",
     "output_type": "stream",
     "text": [
      "Bact 0.2564102564102564\n",
      "NotApplicable 1.0767389112903225\n",
      "Pneu 0.07518796992481203\n",
      "UTI 0.36643026004728135\n"
     ]
    }
   ],
   "source": [
    "for i in range(len(recall)):\n",
    "  f2_score = (5*precision[i]*recall[i])/(2*precision[i]+2*recall[i])\n",
    "  print(model.classes_[i], f2_score)"
   ]
  },
  {
   "cell_type": "code",
   "execution_count": null,
   "metadata": {},
   "outputs": [],
   "source": []
  }
 ],
 "metadata": {
  "kernelspec": {
   "display_name": "Python 3",
   "language": "python",
   "name": "python3"
  },
  "language_info": {
   "codemirror_mode": {
    "name": "ipython",
    "version": 3
   },
   "file_extension": ".py",
   "mimetype": "text/x-python",
   "name": "python",
   "nbconvert_exporter": "python",
   "pygments_lexer": "ipython3",
   "version": "3.10.4"
  }
 },
 "nbformat": 4,
 "nbformat_minor": 2
}
